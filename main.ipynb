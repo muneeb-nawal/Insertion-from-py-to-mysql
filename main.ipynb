{
 "cells": [
  {
   "cell_type": "code",
   "execution_count": 1,
   "id": "28133168",
   "metadata": {},
   "outputs": [],
   "source": [
    "from preprocess import *\n",
    "from dabase_handler import *\n",
    "import logging as lg\n",
    "import os"
   ]
  },
  {
   "cell_type": "code",
   "execution_count": 2,
   "id": "8745a503",
   "metadata": {},
   "outputs": [],
   "source": [
    "data = preprocess(os.getcwd()+\"\\\\carbon_nanotubes.csv\")"
   ]
  },
  {
   "cell_type": "code",
   "execution_count": 3,
   "id": "b360d96c",
   "metadata": {},
   "outputs": [],
   "source": [
    "lst = data.genlist()"
   ]
  },
  {
   "cell_type": "code",
   "execution_count": 4,
   "id": "ba6d16fd",
   "metadata": {},
   "outputs": [
    {
     "name": "stderr",
     "output_type": "stream",
     "text": [
      "file already present at C:\\Users\\mnnawal\\Desktop\\Ineuron\\SQL\\SQL Insertion\n"
     ]
    },
    {
     "name": "stdout",
     "output_type": "stream",
     "text": [
      "save path ? : y/n y\n"
     ]
    },
    {
     "data": {
      "text/plain": [
       "'C:\\\\Users\\\\mnnawal\\\\Desktop\\\\Ineuron\\\\SQL\\\\SQL Insertion\\\\carbon.csv'"
      ]
     },
     "execution_count": 4,
     "metadata": {},
     "output_type": "execute_result"
    }
   ],
   "source": [
    "path = data.create_updated('carbon',lst)\n",
    "path"
   ]
  },
  {
   "cell_type": "code",
   "execution_count": 5,
   "id": "b0371533",
   "metadata": {},
   "outputs": [],
   "source": [
    "db = database('127.0.0.1','root','mysql','carbonnanotube','nanotube_details')"
   ]
  },
  {
   "cell_type": "code",
   "execution_count": 6,
   "id": "2ffc9de2",
   "metadata": {},
   "outputs": [
    {
     "name": "stderr",
     "output_type": "stream",
     "text": [
      "All databases : [('carbonnanotube',), ('information_schema',), ('mysql',), ('performance_schema',), ('sys',)]\n"
     ]
    }
   ],
   "source": [
    "db.show_db()"
   ]
  },
  {
   "cell_type": "code",
   "execution_count": 7,
   "id": "7ce106d2",
   "metadata": {},
   "outputs": [
    {
     "name": "stdout",
     "output_type": "stream",
     "text": [
      "True\n",
      "database already present, drop it and create new? y/n : y\n"
     ]
    },
    {
     "name": "stderr",
     "output_type": "stream",
     "text": [
      "error rectified by drop: 1007 (HY000): Can't create database 'carbonnanotube'; database exists\n"
     ]
    }
   ],
   "source": [
    "db.create_db()"
   ]
  },
  {
   "cell_type": "code",
   "execution_count": 8,
   "id": "ae2c6fa7",
   "metadata": {},
   "outputs": [
    {
     "name": "stderr",
     "output_type": "stream",
     "text": [
      "Table nanotube_details Created!!\n"
     ]
    },
    {
     "name": "stdout",
     "output_type": "stream",
     "text": [
      "True\n"
     ]
    }
   ],
   "source": [
    "db.create_table()"
   ]
  },
  {
   "cell_type": "code",
   "execution_count": 9,
   "id": "2656dfb7",
   "metadata": {},
   "outputs": [
    {
     "name": "stderr",
     "output_type": "stream",
     "text": [
      "connection established for insert : True\n"
     ]
    },
    {
     "name": "stdout",
     "output_type": "stream",
     "text": [
      "<_csv.reader object at 0x00000255162EA3A0>\n"
     ]
    },
    {
     "name": "stderr",
     "output_type": "stream",
     "text": [
      "data inserted into db:carbonnanotube; Table : nanotube_details\n"
     ]
    }
   ],
   "source": [
    "db.insert_data_db(path)"
   ]
  }
 ],
 "metadata": {
  "kernelspec": {
   "display_name": "Python 3",
   "language": "python",
   "name": "python3"
  },
  "language_info": {
   "codemirror_mode": {
    "name": "ipython",
    "version": 3
   },
   "file_extension": ".py",
   "mimetype": "text/x-python",
   "name": "python",
   "nbconvert_exporter": "python",
   "pygments_lexer": "ipython3",
   "version": "3.8.8"
  },
  "toc": {
   "base_numbering": 1,
   "nav_menu": {},
   "number_sections": true,
   "sideBar": true,
   "skip_h1_title": false,
   "title_cell": "Table of Contents",
   "title_sidebar": "Contents",
   "toc_cell": false,
   "toc_position": {},
   "toc_section_display": true,
   "toc_window_display": false
  },
  "varInspector": {
   "cols": {
    "lenName": 16,
    "lenType": 16,
    "lenVar": 40
   },
   "kernels_config": {
    "python": {
     "delete_cmd_postfix": "",
     "delete_cmd_prefix": "del ",
     "library": "var_list.py",
     "varRefreshCmd": "print(var_dic_list())"
    },
    "r": {
     "delete_cmd_postfix": ") ",
     "delete_cmd_prefix": "rm(",
     "library": "var_list.r",
     "varRefreshCmd": "cat(var_dic_list()) "
    }
   },
   "types_to_exclude": [
    "module",
    "function",
    "builtin_function_or_method",
    "instance",
    "_Feature"
   ],
   "window_display": false
  }
 },
 "nbformat": 4,
 "nbformat_minor": 5
}
